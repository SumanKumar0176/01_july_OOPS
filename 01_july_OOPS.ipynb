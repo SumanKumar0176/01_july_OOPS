{
  "nbformat": 4,
  "nbformat_minor": 0,
  "metadata": {
    "colab": {
      "provenance": []
    },
    "kernelspec": {
      "name": "python3",
      "display_name": "Python 3"
    },
    "language_info": {
      "name": "python"
    }
  },
  "cells": [
    {
      "cell_type": "code",
      "execution_count": null,
      "metadata": {
        "id": "a0_gMF1SE2I6"
      },
      "outputs": [],
      "source": [
        "#1. What is the primary goal of Object-Oriented Programming (OOP)?"
      ]
    },
    {
      "cell_type": "code",
      "source": [
        "\"\"\"\n",
        "The primary goal of Object-Oriented Programming (OOP) is to organize and structure software development around objects, which are instances of classes.\n",
        " OOP focuses on creating modular, reusable, and maintainable code by modeling real-world entities or concepts as objects.\n",
        " The key goals of OOP :\n",
        " 1.Modularity:\n",
        " 2.Encapsulation:\n",
        " 3.Inheritance:\n",
        "\"\"\""
      ],
      "metadata": {
        "id": "sC7CijYMFFF4",
        "colab": {
          "base_uri": "https://localhost:8080/",
          "height": 105
        },
        "outputId": "67881e16-075c-4c6e-b2b2-7c72887eeb61"
      },
      "execution_count": null,
      "outputs": [
        {
          "output_type": "execute_result",
          "data": {
            "text/plain": [
              "'\\nThe primary goal of Object-Oriented Programming (OOP) is to organize and structure software development around objects, which are instances of classes.\\n OOP focuses on creating modular, reusable, and maintainable code by modeling real-world entities or concepts as objects.\\n The key goals of OOP :\\n 1.Modularity:\\n 2.Encapsulation:\\n 3.Inheritance:\\n'"
            ],
            "application/vnd.google.colaboratory.intrinsic+json": {
              "type": "string"
            }
          },
          "metadata": {},
          "execution_count": 1
        }
      ]
    },
    {
      "cell_type": "code",
      "source": [
        "#2. What is an object in Python?"
      ],
      "metadata": {
        "id": "oPJoyMKA1usa"
      },
      "execution_count": null,
      "outputs": []
    },
    {
      "cell_type": "code",
      "source": [
        "\"\"\"\n",
        "In Python, an object is a fundamental concept that represents a particular instance of a class. It is the basic building block of object-oriented programming (OOP) in Python.\n",
        "\n",
        "An object is created from a class, which is essentially a blueprint or template defining the properties and behaviors that the object will have. The class specifies\n",
        "what attributes (data) an object will have and what methods (functions) can be performed on the object.\n",
        "\n",
        "When you create an object from a class, you are instantiating the class. Each object created from the same class will have its own set of attributes\n",
        "and can perform the methods defined in the class.\n",
        "\"\"\""
      ],
      "metadata": {
        "id": "BNZnfqH519v0",
        "colab": {
          "base_uri": "https://localhost:8080/",
          "height": 88
        },
        "outputId": "dcae8c9d-c922-46f7-b36b-2c413b8c01db"
      },
      "execution_count": 1,
      "outputs": [
        {
          "output_type": "execute_result",
          "data": {
            "text/plain": [
              "'\\nIn Python, an object is a fundamental concept that represents a particular instance of a class. It is the basic building block of object-oriented programming (OOP) in Python.\\n\\nAn object is created from a class, which is essentially a blueprint or template defining the properties and behaviors that the object will have. The class specifies \\nwhat attributes (data) an object will have and what methods (functions) can be performed on the object.\\n\\nWhen you create an object from a class, you are instantiating the class. Each object created from the same class will have its own set of attributes \\nand can perform the methods defined in the class.\\n'"
            ],
            "application/vnd.google.colaboratory.intrinsic+json": {
              "type": "string"
            }
          },
          "metadata": {},
          "execution_count": 1
        }
      ]
    },
    {
      "cell_type": "code",
      "source": [
        "#3. What is a class in Python?"
      ],
      "metadata": {
        "id": "8kFH8ISNzAn4"
      },
      "execution_count": 2,
      "outputs": []
    },
    {
      "cell_type": "code",
      "source": [
        "\"\"\"\n",
        "a class is a blueprint or template that defines the structure and behavior of objects. It serves as a blueprint for creating multiple objects with similar characteristics and\n",
        "functionalities.\n",
        "\n",
        "A class encapsulates data (attributes) and functions (methods) that operate on that data. The attributes represent the state or properties of an object, while the methods\n",
        " define the behaviors or actions that the object can perform.\n",
        "\"\"\""
      ],
      "metadata": {
        "colab": {
          "base_uri": "https://localhost:8080/",
          "height": 70
        },
        "id": "i8KVJRFAzCBm",
        "outputId": "c289707d-384a-4121-8587-e9fa981cefa4"
      },
      "execution_count": 3,
      "outputs": [
        {
          "output_type": "execute_result",
          "data": {
            "text/plain": [
              "'\\na class is a blueprint or template that defines the structure and behavior of objects. It serves as a blueprint for creating multiple objects with similar characteristics and \\nfunctionalities.\\n\\nA class encapsulates data (attributes) and functions (methods) that operate on that data. The attributes represent the state or properties of an object, while the methods\\n define the behaviors or actions that the object can perform.\\n'"
            ],
            "application/vnd.google.colaboratory.intrinsic+json": {
              "type": "string"
            }
          },
          "metadata": {},
          "execution_count": 3
        }
      ]
    },
    {
      "cell_type": "code",
      "source": [
        "#4. What are attributes and methods in a class?"
      ],
      "metadata": {
        "id": "AkC2o5pM1hum"
      },
      "execution_count": 4,
      "outputs": []
    },
    {
      "cell_type": "code",
      "source": [
        "\"\"\"\n",
        "1.Attributes:\n",
        "Attributes are variables that hold data associated with an object. They represent the state or properties of an object. Attributes store information that describes the object's\n",
        "characteristics. Each object created from a class can have its own set of attribute values.\n",
        "class Person:\n",
        "    def __init__(self, name, age):\n",
        "        self.name = name\n",
        "        self.age = age\n",
        "\n",
        "person = Person(\"Alice\", 25)\n",
        "print(person.name)  # Output: Alice\n",
        "print(person.age)   # Output: 25\n",
        "\n",
        "2.Methods:\n",
        "Methods are functions defined within a class that define the behavior or actions that objects of the class can perform. They operate on the object's attributes and can manipulate\n",
        "the object's state. Methods are used to define the behavior associated with objects.\n",
        "class Person:\n",
        "    def __init__(self, name, age):\n",
        "        self.name = name\n",
        "        self.age = age\n",
        "\n",
        "    def say_hello(self):\n",
        "        print(f\"Hello, my name is {self.name} and I'm {self.age} years old.\")\n",
        "\n",
        "person = Person(\"Alice\", 25)\n",
        "person.say_hello()  # Output: Hello, my name is Alice and I'm 25 years old.\n",
        "\n",
        "\"\"\""
      ],
      "metadata": {
        "colab": {
          "base_uri": "https://localhost:8080/",
          "height": 123
        },
        "id": "yxO7l3qg1lr-",
        "outputId": "f6655f5c-06dc-4a74-d7f3-8065901b8b11"
      },
      "execution_count": 5,
      "outputs": [
        {
          "output_type": "execute_result",
          "data": {
            "text/plain": [
              "'\\n1.Attributes:\\nAttributes are variables that hold data associated with an object. They represent the state or properties of an object. Attributes store information that describes the object\\'s \\ncharacteristics. Each object created from a class can have its own set of attribute values.\\nclass Person:\\n    def __init__(self, name, age):\\n        self.name = name\\n        self.age = age\\n\\nperson = Person(\"Alice\", 25)\\nprint(person.name)  # Output: Alice\\nprint(person.age)   # Output: 25\\n\\n2.Methods:\\nMethods are functions defined within a class that define the behavior or actions that objects of the class can perform. They operate on the object\\'s attributes and can manipulate \\nthe object\\'s state. Methods are used to define the behavior associated with objects.\\nclass Person:\\n    def __init__(self, name, age):\\n        self.name = name\\n        self.age = age\\n\\n    def say_hello(self):\\n        print(f\"Hello, my name is {self.name} and I\\'m {self.age} years old.\")\\n\\nperson = Person(\"Alice\", 25)\\nperson.say_hello()  # Output: Hello, my name is Alice and I\\'m 25 years old.\\n\\n'"
            ],
            "application/vnd.google.colaboratory.intrinsic+json": {
              "type": "string"
            }
          },
          "metadata": {},
          "execution_count": 5
        }
      ]
    },
    {
      "cell_type": "code",
      "source": [
        "#5. What is the difference between class variables and instance variables in Python?"
      ],
      "metadata": {
        "id": "K4VSfYSH428l"
      },
      "execution_count": 6,
      "outputs": []
    },
    {
      "cell_type": "code",
      "source": [
        "\"\"\"\n",
        "1.Class Variables:\n",
        "Class variables are variables that are shared among all instances (objects) of a class. They are defined within the class but outside of any methods. Class variables are associated with the class itself rather than individual instances.\n",
        "\n",
        "Key points about class variables:\n",
        "\n",
        "1.They are defined at the class level, outside any methods, and are shared among all instances of the class.\n",
        "2.Class variables are accessed using the class name (ClassName.variable_name) or through an instance (instance_name.variable_name).\n",
        "3.If a class variable is modified in one instance, the change will be reflected in all other instances as well.\n",
        "4.Class variables are useful for storing data that is common to all instances of a class.\n",
        "\n",
        "\n",
        "2.Instance Variables:\n",
        "Instance variables are specific to each instance (object) of a class. They are defined within the methods of a class, particularly in the constructor method (__init__). Instance variables hold unique data for each instance.\n",
        "\n",
        "Key points about instance variables:\n",
        "\n",
        "1.They are defined within methods, particularly in the constructor (__init__) method, using the self parameter.\n",
        "2.Instance variables are accessed using the instance name (instance_name.variable_name).\n",
        "3.Each instance of a class has its own set of instance variables.\n",
        "4.Instance variables can have different values for different instances.\n",
        "\"\"\""
      ],
      "metadata": {
        "colab": {
          "base_uri": "https://localhost:8080/",
          "height": 123
        },
        "id": "_8czpXeS47du",
        "outputId": "e75a43b3-5ceb-4efc-96d1-99992ef8d03a"
      },
      "execution_count": 8,
      "outputs": [
        {
          "output_type": "execute_result",
          "data": {
            "text/plain": [
              "'\\n1.Class Variables:\\nClass variables are variables that are shared among all instances (objects) of a class. They are defined within the class but outside of any methods. Class variables are associated with the class itself rather than individual instances.\\n\\nKey points about class variables:\\n\\n1.They are defined at the class level, outside any methods, and are shared among all instances of the class.\\n2.Class variables are accessed using the class name (ClassName.variable_name) or through an instance (instance_name.variable_name).\\n3.If a class variable is modified in one instance, the change will be reflected in all other instances as well.\\n4.Class variables are useful for storing data that is common to all instances of a class.\\n\\n\\n2.Instance Variables:\\nInstance variables are specific to each instance (object) of a class. They are defined within the methods of a class, particularly in the constructor method (__init__). Instance variables hold unique data for each instance.\\n\\nKey points about instance variables:\\n\\n1.They are defined within methods, particularly in the constructor (__init__) method, using the self parameter.\\n2.Instance variables are accessed using the instance name (instance_name.variable_name).\\n3.Each instance of a class has its own set of instance variables.\\n4.Instance variables can have different values for different instances.\\n'"
            ],
            "application/vnd.google.colaboratory.intrinsic+json": {
              "type": "string"
            }
          },
          "metadata": {},
          "execution_count": 8
        }
      ]
    },
    {
      "cell_type": "code",
      "source": [
        "#6. What is the purpose of the self parameter in Python class methods?"
      ],
      "metadata": {
        "id": "6XJGUeN66ZZ-"
      },
      "execution_count": 9,
      "outputs": []
    },
    {
      "cell_type": "code",
      "source": [
        "\"\"\"\n",
        " the self parameter in Python class methods provides a reference to the specific instance of the class. It enables methods to access and manipulate instance variables and\n",
        "  perform actions specific to the object on which the method is called.\n",
        "class Circle:\n",
        "    def __init__(self, radius):\n",
        "        self.radius = radius  # Instance variable\n",
        "\n",
        "    def calculate_area(self):\n",
        "        area = 3.1416 * self.radius ** 2\n",
        "        return area\n",
        "\n",
        "circle = Circle(5)\n",
        "print(circle.calculate_area())  # Output: 78.54\n",
        "\n",
        "\"\"\""
      ],
      "metadata": {
        "colab": {
          "base_uri": "https://localhost:8080/",
          "height": 70
        },
        "id": "sadqk70i6kG2",
        "outputId": "d2f6eb16-3fb2-45f2-bb9e-b27baf50f4a5"
      },
      "execution_count": 10,
      "outputs": [
        {
          "output_type": "execute_result",
          "data": {
            "text/plain": [
              "'\\n the self parameter in Python class methods provides a reference to the specific instance of the class. It enables methods to access and manipulate instance variables and\\n  perform actions specific to the object on which the method is called.\\nclass Circle:\\n    def __init__(self, radius):\\n        self.radius = radius  # Instance variable\\n\\n    def calculate_area(self):\\n        area = 3.1416 * self.radius ** 2\\n        return area\\n\\ncircle = Circle(5)\\nprint(circle.calculate_area())  # Output: 78.54\\n\\n'"
            ],
            "application/vnd.google.colaboratory.intrinsic+json": {
              "type": "string"
            }
          },
          "metadata": {},
          "execution_count": 10
        }
      ]
    },
    {
      "cell_type": "code",
      "source": [
        "\"\"\"\n",
        "7. For a library management system, you have to design the \"Book\" class with OOP\n",
        "principles in mind. The “Book” class will have following attributes:\n",
        "a. title: Represents the title of the book.\n",
        "b. author: Represents the author(s) of the book.\n",
        "c. isbn: Represents the ISBN (International Standard Book Number) of the book.\n",
        "d. publication_year: Represents the year of publication of the book.\n",
        "e. available_copies: Represents the number of copies available for checkout.\n",
        "The class will also include the following methods:\n",
        "a. check_out(self): Decrements the available copies by one if there are copies\n",
        "available for checkout.\n",
        "b. return_book(self): Increments the available copies by one when a book is\n",
        "returned.\n",
        "c. display_book_info(self): Displays the information about the book, including its\n",
        "attributes and the number of available copies.\n",
        "\"\"\""
      ],
      "metadata": {
        "colab": {
          "base_uri": "https://localhost:8080/",
          "height": 105
        },
        "id": "bmiRZjhl7UvV",
        "outputId": "8547cbe1-feaa-4b85-e9fa-c1a75750ff8e"
      },
      "execution_count": 11,
      "outputs": [
        {
          "output_type": "execute_result",
          "data": {
            "text/plain": [
              "'\\n7. For a library management system, you have to design the \"Book\" class with OOP\\nprinciples in mind. The “Book” class will have following attributes:\\na. title: Represents the title of the book.\\nb. author: Represents the author(s) of the book.\\nc. isbn: Represents the ISBN (International Standard Book Number) of the book.\\nd. publication_year: Represents the year of publication of the book.\\ne. available_copies: Represents the number of copies available for checkout.\\nThe class will also include the following methods:\\na. check_out(self): Decrements the available copies by one if there are copies\\navailable for checkout.\\nb. return_book(self): Increments the available copies by one when a book is\\nreturned.\\nc. display_book_info(self): Displays the information about the book, including its\\nattributes and the number of available copies.\\n'"
            ],
            "application/vnd.google.colaboratory.intrinsic+json": {
              "type": "string"
            }
          },
          "metadata": {},
          "execution_count": 11
        }
      ]
    },
    {
      "cell_type": "code",
      "source": [
        "class Book:\n",
        "    def __init__(self, title, author, isbn, publication_year, available_copies):\n",
        "        self.title = title\n",
        "        self.author = author\n",
        "        self.isbn = isbn\n",
        "        self.publication_year = publication_year\n",
        "        self.available_copies = available_copies\n",
        "\n",
        "    def check_out(self):\n",
        "        if self.available_copies > 0:\n",
        "            self.available_copies -= 1\n",
        "            print(f\"Book '{self.title}' checked out successfully.\")\n",
        "        else:\n",
        "            print(f\"Book '{self.title}' is currently not available for checkout.\")\n",
        "\n",
        "    def return_book(self):\n",
        "        self.available_copies += 1\n",
        "        print(f\"Book '{self.title}' returned successfully.\")\n",
        "\n",
        "    def display_book_info(self):\n",
        "        print(f\"Title: {self.title}\")\n",
        "        print(f\"Author(s): {self.author}\")\n",
        "        print(f\"ISBN: {self.isbn}\")\n",
        "        print(f\"Publication Year: {self.publication_year}\")\n",
        "        print(f\"Available Copies: {self.available_copies}\")\n",
        "\n",
        "\n",
        "# Example usage:\n",
        "book1 = Book(\"Python Crash Course\", \"Eric Matthes\", \"9781593279288\", 2019, 3)\n",
        "book1.display_book_info()   # Display book information\n",
        "\n",
        "book1.check_out()           # Check out the book\n",
        "book1.display_book_info()   # Display updated book information\n",
        "\n",
        "book1.return_book()         # Return the book\n",
        "book1.display_book_info()   # Display updated book information\n"
      ],
      "metadata": {
        "colab": {
          "base_uri": "https://localhost:8080/"
        },
        "id": "xO8-46UF8zFt",
        "outputId": "f67c7008-dbfc-4858-fa61-71e9454d7267"
      },
      "execution_count": 12,
      "outputs": [
        {
          "output_type": "stream",
          "name": "stdout",
          "text": [
            "Title: Python Crash Course\n",
            "Author(s): Eric Matthes\n",
            "ISBN: 9781593279288\n",
            "Publication Year: 2019\n",
            "Available Copies: 3\n",
            "Book 'Python Crash Course' checked out successfully.\n",
            "Title: Python Crash Course\n",
            "Author(s): Eric Matthes\n",
            "ISBN: 9781593279288\n",
            "Publication Year: 2019\n",
            "Available Copies: 2\n",
            "Book 'Python Crash Course' returned successfully.\n",
            "Title: Python Crash Course\n",
            "Author(s): Eric Matthes\n",
            "ISBN: 9781593279288\n",
            "Publication Year: 2019\n",
            "Available Copies: 3\n"
          ]
        }
      ]
    },
    {
      "cell_type": "code",
      "source": [
        "\"\"\"\n",
        "8. For a ticket booking system, you have to design the \"Ticket\" class with OOP\n",
        "principles in mind. The “Ticket” class should have the following attributes:\n",
        "a. ticket_id: Represents the unique identifier for the ticket.\n",
        "b. event_name: Represents the name of the event.\n",
        "c. event_date: Represents the date of the event.\n",
        "d. venue: Represents the venue of the event.\n",
        "e. seat_number: Represents the seat number associated with the ticket.\n",
        "f. price: Represents the price of the ticket.\n",
        "g. is_reserved: Represents the reservation status of the ticket.\n",
        "The class also includes the following methods:\n",
        "a. reserve_ticket(self): Marks the ticket as reserved if it is not already reserved.\n",
        "b. cancel_reservation(self): Cancels the reservation of the ticket if it is already\n",
        "reserved.\n",
        "c. display_ticket_info(self): Displays the information about the ticket, including its\n",
        "attributes and reservation status.\n",
        "\"\"\""
      ],
      "metadata": {
        "colab": {
          "base_uri": "https://localhost:8080/",
          "height": 105
        },
        "id": "H17zXYio9E0W",
        "outputId": "e1843bdd-81fc-4813-8a36-d1099c2bc0e5"
      },
      "execution_count": 13,
      "outputs": [
        {
          "output_type": "execute_result",
          "data": {
            "text/plain": [
              "'\\n8. For a ticket booking system, you have to design the \"Ticket\" class with OOP\\nprinciples in mind. The “Ticket” class should have the following attributes:\\na. ticket_id: Represents the unique identifier for the ticket.\\nb. event_name: Represents the name of the event.\\nc. event_date: Represents the date of the event.\\nd. venue: Represents the venue of the event.\\ne. seat_number: Represents the seat number associated with the ticket.\\nf. price: Represents the price of the ticket.\\ng. is_reserved: Represents the reservation status of the ticket.\\nThe class also includes the following methods:\\na. reserve_ticket(self): Marks the ticket as reserved if it is not already reserved.\\nb. cancel_reservation(self): Cancels the reservation of the ticket if it is already\\nreserved.\\nc. display_ticket_info(self): Displays the information about the ticket, including its\\nattributes and reservation status.\\n'"
            ],
            "application/vnd.google.colaboratory.intrinsic+json": {
              "type": "string"
            }
          },
          "metadata": {},
          "execution_count": 13
        }
      ]
    },
    {
      "cell_type": "code",
      "source": [
        "class Ticket:\n",
        "    def __init__(self, ticket_id, event_name, event_date, venue, seat_number, price):\n",
        "        self.ticket_id = ticket_id\n",
        "        self.event_name = event_name\n",
        "        self.event_date = event_date\n",
        "        self.venue = venue\n",
        "        self.seat_number = seat_number\n",
        "        self.price = price\n",
        "        self.is_reserved = False\n",
        "\n",
        "    def reserve_ticket(self):\n",
        "        if not self.is_reserved:\n",
        "            self.is_reserved = True\n",
        "            print(\"Ticket reserved successfully.\")\n",
        "        else:\n",
        "            print(\"Ticket is already reserved.\")\n",
        "\n",
        "    def cancel_reservation(self):\n",
        "        if self.is_reserved:\n",
        "            self.is_reserved = False\n",
        "            print(\"Reservation cancelled successfully.\")\n",
        "        else:\n",
        "            print(\"Ticket is not reserved.\")\n",
        "\n",
        "    def display_ticket_info(self):\n",
        "        print(f\"Ticket ID: {self.ticket_id}\")\n",
        "        print(f\"Event Name: {self.event_name}\")\n",
        "        print(f\"Event Date: {self.event_date}\")\n",
        "        print(f\"Venue: {self.venue}\")\n",
        "        print(f\"Seat Number: {self.seat_number}\")\n",
        "        print(f\"Price: {self.price}\")\n",
        "        print(f\"Reservation Status: {'Reserved' if self.is_reserved else 'Not Reserved'}\")\n",
        "\n",
        "\n",
        "# Example usage:\n",
        "ticket1 = Ticket(\"T001\", \"Music Concert\", \"2023-07-15\", \"ABC Stadium\", \"A12\", 50.0)\n",
        "ticket1.display_ticket_info()       # Display ticket information\n",
        "\n",
        "ticket1.reserve_ticket()            # Reserve the ticket\n",
        "ticket1.display_ticket_info()       # Display updated ticket information\n",
        "\n",
        "ticket1.cancel_reservation()        # Cancel the reservation\n",
        "ticket1.display_ticket_info()       # Display updated ticket information\n"
      ],
      "metadata": {
        "colab": {
          "base_uri": "https://localhost:8080/"
        },
        "id": "iOlS3oQz9alN",
        "outputId": "af7698af-2231-4287-e05d-2803a2d99e48"
      },
      "execution_count": 14,
      "outputs": [
        {
          "output_type": "stream",
          "name": "stdout",
          "text": [
            "Ticket ID: T001\n",
            "Event Name: Music Concert\n",
            "Event Date: 2023-07-15\n",
            "Venue: ABC Stadium\n",
            "Seat Number: A12\n",
            "Price: 50.0\n",
            "Reservation Status: Not Reserved\n",
            "Ticket reserved successfully.\n",
            "Ticket ID: T001\n",
            "Event Name: Music Concert\n",
            "Event Date: 2023-07-15\n",
            "Venue: ABC Stadium\n",
            "Seat Number: A12\n",
            "Price: 50.0\n",
            "Reservation Status: Reserved\n",
            "Reservation cancelled successfully.\n",
            "Ticket ID: T001\n",
            "Event Name: Music Concert\n",
            "Event Date: 2023-07-15\n",
            "Venue: ABC Stadium\n",
            "Seat Number: A12\n",
            "Price: 50.0\n",
            "Reservation Status: Not Reserved\n"
          ]
        }
      ]
    },
    {
      "cell_type": "code",
      "source": [
        "\"\"\"\n",
        "9. You are creating a shopping cart for an e-commerce website. Using OOP to model\n",
        "the \"ShoppingCart\" functionality the class should contain following attributes and\n",
        "methods:\n",
        "a. items: Represents the list of items in the shopping cart.\n",
        "The class also includes the following methods:\n",
        "\n",
        "a. add_item(self, item): Adds an item to the shopping cart by appending it to the\n",
        "list of items.\n",
        "b. remove_item(self, item): Removes an item from the shopping cart if it exists in\n",
        "the list.\n",
        "c. view_cart(self): Displays the items currently present in the shopping cart.\n",
        "d. clear_cart(self): Clears all items from the shopping cart by reassigning an\n",
        "empty list to the items attribute.\n",
        "\"\"\""
      ],
      "metadata": {
        "colab": {
          "base_uri": "https://localhost:8080/",
          "height": 88
        },
        "id": "NYC0FLcj9hTl",
        "outputId": "462f0117-92f9-4780-ede5-84ca9934f02f"
      },
      "execution_count": 15,
      "outputs": [
        {
          "output_type": "execute_result",
          "data": {
            "text/plain": [
              "'\\n9. You are creating a shopping cart for an e-commerce website. Using OOP to model\\nthe \"ShoppingCart\" functionality the class should contain following attributes and\\nmethods:\\na. items: Represents the list of items in the shopping cart.\\nThe class also includes the following methods:\\n\\na. add_item(self, item): Adds an item to the shopping cart by appending it to the\\nlist of items.\\nb. remove_item(self, item): Removes an item from the shopping cart if it exists in\\nthe list.\\nc. view_cart(self): Displays the items currently present in the shopping cart.\\nd. clear_cart(self): Clears all items from the shopping cart by reassigning an\\nempty list to the items attribute.\\n'"
            ],
            "application/vnd.google.colaboratory.intrinsic+json": {
              "type": "string"
            }
          },
          "metadata": {},
          "execution_count": 15
        }
      ]
    },
    {
      "cell_type": "code",
      "source": [
        "class ShoppingCart:\n",
        "    def __init__(self):\n",
        "        self.items = []\n",
        "\n",
        "    def add_item(self, item):\n",
        "        self.items.append(item)\n",
        "        print(f\"Item '{item}' added to the shopping cart.\")\n",
        "\n",
        "    def remove_item(self, item):\n",
        "        if item in self.items:\n",
        "            self.items.remove(item)\n",
        "            print(f\"Item '{item}' removed from the shopping cart.\")\n",
        "        else:\n",
        "            print(f\"Item '{item}' is not in the shopping cart.\")\n",
        "\n",
        "    def view_cart(self):\n",
        "        if self.items:\n",
        "            print(\"Items in the shopping cart:\")\n",
        "            for item in self.items:\n",
        "                print(item)\n",
        "        else:\n",
        "            print(\"The shopping cart is empty.\")\n",
        "\n",
        "    def clear_cart(self):\n",
        "        self.items = []\n",
        "        print(\"Shopping cart cleared successfully.\")\n",
        "\n",
        "\n",
        "# Example usage:\n",
        "cart = ShoppingCart()\n",
        "cart.view_cart()                 # Display cart contents (empty)\n",
        "\n",
        "cart.add_item(\"Shirt\")           # Add item to the cart\n",
        "cart.add_item(\"Phone\")           # Add another item to the cart\n",
        "cart.view_cart()                 # Display cart contents\n",
        "\n",
        "cart.remove_item(\"Shirt\")        # Remove an item from the cart\n",
        "cart.remove_item(\"Watch\")        # Try to remove a non-existent item\n",
        "cart.view_cart()                 # Display updated cart contents\n",
        "\n",
        "cart.clear_cart()                # Clear the cart\n",
        "cart.view_cart()                 # Display cart contents (empty)\n"
      ],
      "metadata": {
        "colab": {
          "base_uri": "https://localhost:8080/"
        },
        "id": "yRKxz01K9ss-",
        "outputId": "df5c3ea4-f319-4cc1-a047-5de9d0a33661"
      },
      "execution_count": 16,
      "outputs": [
        {
          "output_type": "stream",
          "name": "stdout",
          "text": [
            "The shopping cart is empty.\n",
            "Item 'Shirt' added to the shopping cart.\n",
            "Item 'Phone' added to the shopping cart.\n",
            "Items in the shopping cart:\n",
            "Shirt\n",
            "Phone\n",
            "Item 'Shirt' removed from the shopping cart.\n",
            "Item 'Watch' is not in the shopping cart.\n",
            "Items in the shopping cart:\n",
            "Phone\n",
            "Shopping cart cleared successfully.\n",
            "The shopping cart is empty.\n"
          ]
        }
      ]
    },
    {
      "cell_type": "code",
      "source": [
        "\"\"\"\n",
        "10. Imagine a school management system. You have to design the \"Student\" class using\n",
        "OOP concepts.The “Student” class has the following attributes:\n",
        "a. name: Represents the name of the student.\n",
        "b. age: Represents the age of the student.\n",
        "c. grade: Represents the grade or class of the student.\n",
        "d. student_id: Represents the unique identifier for the student.\n",
        "e. attendance: Represents the attendance record of the student.\n",
        "The class should also include the following methods:\n",
        "a. update_attendance(self, date, status): Updates the attendance record of the\n",
        "student for a given date with the provided status (e.g., present or absent).\n",
        "b. get_attendance(self): Returns the attendance record of the student.\n",
        "c. get_average_attendance(self): Calculates and returns the average\n",
        "attendance percentage of the student based on their attendance record.\n",
        "\"\"\""
      ],
      "metadata": {
        "colab": {
          "base_uri": "https://localhost:8080/",
          "height": 105
        },
        "id": "Q9MDHZnM9xsV",
        "outputId": "95a27d1c-e9d3-4972-8d4a-b205c47bbb0c"
      },
      "execution_count": 17,
      "outputs": [
        {
          "output_type": "execute_result",
          "data": {
            "text/plain": [
              "'\\n10. Imagine a school management system. You have to design the \"Student\" class using\\nOOP concepts.The “Student” class has the following attributes:\\na. name: Represents the name of the student.\\nb. age: Represents the age of the student.\\nc. grade: Represents the grade or class of the student.\\nd. student_id: Represents the unique identifier for the student.\\ne. attendance: Represents the attendance record of the student.\\nThe class should also include the following methods:\\na. update_attendance(self, date, status): Updates the attendance record of the\\nstudent for a given date with the provided status (e.g., present or absent).\\nb. get_attendance(self): Returns the attendance record of the student.\\nc. get_average_attendance(self): Calculates and returns the average\\nattendance percentage of the student based on their attendance record.\\n'"
            ],
            "application/vnd.google.colaboratory.intrinsic+json": {
              "type": "string"
            }
          },
          "metadata": {},
          "execution_count": 17
        }
      ]
    },
    {
      "cell_type": "code",
      "source": [
        "class Student:\n",
        "    def __init__(self, name, age, grade, student_id):\n",
        "        self.name = name\n",
        "        self.age = age\n",
        "        self.grade = grade\n",
        "        self.student_id = student_id\n",
        "        self.attendance = {}\n",
        "\n",
        "    def update_attendance(self, date, status):\n",
        "        self.attendance[date] = status\n",
        "\n",
        "    def get_attendance(self):\n",
        "        return self.attendance\n",
        "\n",
        "    def get_average_attendance(self):\n",
        "        total_days = len(self.attendance)\n",
        "        if total_days == 0:\n",
        "            return 0.0\n",
        "\n",
        "        present_days = sum(1 for status in self.attendance.values() if status == 'present')\n",
        "        attendance_percentage = (present_days / total_days) * 100\n",
        "        return attendance_percentage\n",
        "\n",
        "\n",
        "# Example usage:\n",
        "student = Student(\"Alice\", 15, 9, \"S001\")\n",
        "\n",
        "student.update_attendance(\"2023-07-01\", \"present\")\n",
        "student.update_attendance(\"2023-07-02\", \"absent\")\n",
        "student.update_attendance(\"2023-07-03\", \"present\")\n",
        "\n",
        "attendance_record = student.get_attendance()\n",
        "print(attendance_record)              # Output: {'2023-07-01': 'present', '2023-07-02': 'absent', '2023-07-03': 'present'}\n",
        "\n",
        "average_attendance = student.get_average_attendance()\n",
        "print(f\"Average Attendance: {average_attendance}%\")  # Output: Average Attendance: 66.66666666666666%\n"
      ],
      "metadata": {
        "colab": {
          "base_uri": "https://localhost:8080/"
        },
        "id": "Jc5AvZDt98pt",
        "outputId": "3af1bad6-fca2-419c-82da-630aa04de604"
      },
      "execution_count": 18,
      "outputs": [
        {
          "output_type": "stream",
          "name": "stdout",
          "text": [
            "{'2023-07-01': 'present', '2023-07-02': 'absent', '2023-07-03': 'present'}\n",
            "Average Attendance: 66.66666666666666%\n"
          ]
        }
      ]
    },
    {
      "cell_type": "code",
      "source": [],
      "metadata": {
        "id": "V1PLuazA-C5V"
      },
      "execution_count": null,
      "outputs": []
    }
  ]
}